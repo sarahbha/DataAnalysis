{
 "cells": [
  {
   "cell_type": "code",
   "execution_count": 1,
   "id": "111bfc05-0c60-403b-b5f1-014d1fe592e4",
   "metadata": {},
   "outputs": [
    {
     "name": "stdout",
     "output_type": "stream",
     "text": [
      "hello, world\n"
     ]
    }
   ],
   "source": [
    "print(\"hello, world\")"
   ]
  },
  {
   "cell_type": "code",
   "execution_count": 2,
   "id": "59ea57f7-a379-4c23-8937-1bf3fb40f6bd",
   "metadata": {},
   "outputs": [
    {
     "name": "stdout",
     "output_type": "stream",
     "text": [
      "five is greater than two\n"
     ]
    }
   ],
   "source": [
    "if 5>2:\n",
    "    print( \"five is greater than two\")"
   ]
  },
  {
   "cell_type": "code",
   "execution_count": 3,
   "id": "15af1ae6-eafd-4f66-9f5c-1e033b470be5",
   "metadata": {},
   "outputs": [
    {
     "name": "stdout",
     "output_type": "stream",
     "text": [
      "5\n",
      "John\n"
     ]
    }
   ],
   "source": [
    "#comments are as follows and start with a harsh\n",
    "#variables\n",
    "x=5\n",
    "y=\"John\"\n",
    "print(x)\n",
    "print(y)"
   ]
  },
  {
   "cell_type": "code",
   "execution_count": 4,
   "id": "bb6c5ee4-b4b9-4aad-9006-8f4229b723e0",
   "metadata": {},
   "outputs": [
    {
     "name": "stdout",
     "output_type": "stream",
     "text": [
      "sally\n"
     ]
    }
   ],
   "source": [
    "#over\n",
    "x=4\n",
    "x=\"sally\"\n",
    "print(x)"
   ]
  },
  {
   "cell_type": "code",
   "execution_count": 5,
   "id": "dc7ba334-355a-40ca-b576-94614b997d63",
   "metadata": {},
   "outputs": [
    {
     "name": "stdout",
     "output_type": "stream",
     "text": [
      "<class 'int'>\n",
      "<class 'str'>\n"
     ]
    }
   ],
   "source": [
    "#get the type\n",
    "x=5\n",
    "y=\"johnie\"\n",
    "print(type(x))\n",
    "print(type(y))"
   ]
  },
  {
   "cell_type": "code",
   "execution_count": 10,
   "id": "f522caba-cc1f-4570-825a-2d7c192766ea",
   "metadata": {},
   "outputs": [],
   "source": [
    "x=\"awesome\"\n",
    "def myfunc():\n",
    "    print(\"Python is \" +x)\n",
    "    myfunc()"
   ]
  },
  {
   "cell_type": "code",
   "execution_count": 11,
   "id": "64a4e973-67eb-46c2-b001-66686554e52d",
   "metadata": {},
   "outputs": [
    {
     "name": "stdout",
     "output_type": "stream",
     "text": [
      "<class 'int'>\n",
      "<class 'float'>\n",
      "<class 'bool'>\n"
     ]
    }
   ],
   "source": [
    "#numerical types\n",
    "x=1\n",
    "y=5.0\n",
    "z=True\n",
    "print(type(x))\n",
    "print(type(y))\n",
    "print(type(z))"
   ]
  },
  {
   "cell_type": "code",
   "execution_count": null,
   "id": "9965bb24-0f03-4728-9e23-d08965436b54",
   "metadata": {},
   "outputs": [],
   "source": []
  }
 ],
 "metadata": {
  "kernelspec": {
   "display_name": "Python 3 (ipykernel)",
   "language": "python",
   "name": "python3"
  },
  "language_info": {
   "codemirror_mode": {
    "name": "ipython",
    "version": 3
   },
   "file_extension": ".py",
   "mimetype": "text/x-python",
   "name": "python",
   "nbconvert_exporter": "python",
   "pygments_lexer": "ipython3",
   "version": "3.12.4"
  }
 },
 "nbformat": 4,
 "nbformat_minor": 5
}
