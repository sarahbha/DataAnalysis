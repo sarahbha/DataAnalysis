{
 "cells": [
  {
   "cell_type": "markdown",
   "id": "b7269641-68df-4941-bb4c-d943aad075ac",
   "metadata": {},
   "source": [
    "imports"
   ]
  },
  {
   "cell_type": "code",
   "execution_count": 9,
   "id": "1645656e-b9d2-44a2-8a00-6e00df81c917",
   "metadata": {},
   "outputs": [],
   "source": [
    "import pandas as pd\n"
   ]
  },
  {
   "cell_type": "code",
   "execution_count": 12,
   "id": "bc8a4550-3b05-430b-a971-19295a4d9bcc",
   "metadata": {},
   "outputs": [
    {
     "data": {
      "text/plain": [
       "('s', 't', 'r', 'i', 'n', 'g')"
      ]
     },
     "execution_count": 12,
     "metadata": {},
     "output_type": "execute_result"
    }
   ],
   "source": [
    "tup = tuple('string')\n",
    "tup "
   ]
  },
  {
   "cell_type": "code",
   "execution_count": 13,
   "id": "0c01eb19-b565-4088-8750-ee253bb48b16",
   "metadata": {},
   "outputs": [
    {
     "data": {
      "text/plain": [
       "(4, 0, 3)"
      ]
     },
     "execution_count": 13,
     "metadata": {},
     "output_type": "execute_result"
    }
   ],
   "source": [
    "tuple ([4, 0, 3])"
   ]
  },
  {
   "cell_type": "code",
   "execution_count": 14,
   "id": "0a59e06f-01a4-4828-bead-8ce997964f08",
   "metadata": {},
   "outputs": [],
   "source": [
    "tup = tuple (['foo', [1,2], True])"
   ]
  },
  {
   "cell_type": "code",
   "execution_count": 18,
   "id": "76d64fc4-686a-45f6-868d-140fc7f05224",
   "metadata": {},
   "outputs": [
    {
     "data": {
      "text/plain": [
       "['this', 'is', 'AFRICA']"
      ]
     },
     "execution_count": 18,
     "metadata": {},
     "output_type": "execute_result"
    }
   ],
   "source": [
    "# lists\n",
    "ls = [\"this\", \"is\", \"AFRICA\"]\n",
    "ls"
   ]
  },
  {
   "cell_type": "code",
   "execution_count": 20,
   "id": "995e8bcc-3e1b-4445-8c56-290ff919d249",
   "metadata": {},
   "outputs": [],
   "source": [
    "empty_dict={}"
   ]
  },
  {
   "cell_type": "code",
   "execution_count": 24,
   "id": "4ebc917b-f154-4400-8d5c-94cdd6e1dcff",
   "metadata": {},
   "outputs": [
    {
     "data": {
      "text/plain": [
       "{1: 'ayebare', 2: 'sarah'}"
      ]
     },
     "execution_count": 24,
     "metadata": {},
     "output_type": "execute_result"
    }
   ],
   "source": [
    "d1 ={1:\"ayebare\", 2:\"sarah\"}\n",
    "d1"
   ]
  },
  {
   "cell_type": "code",
   "execution_count": 29,
   "id": "43a521b4-1736-4d30-96b1-0f7befddf6f2",
   "metadata": {},
   "outputs": [
    {
     "data": {
      "text/plain": [
       "3"
      ]
     },
     "execution_count": 29,
     "metadata": {},
     "output_type": "execute_result"
    }
   ],
   "source": [
    "def my_function(x,y):\n",
    "    return x+y\n",
    "my_function(1,2)"
   ]
  },
  {
   "cell_type": "code",
   "execution_count": null,
   "id": "4b19f9fd-def0-445c-9b44-90e618c9d019",
   "metadata": {},
   "outputs": [],
   "source": []
  }
 ],
 "metadata": {
  "kernelspec": {
   "display_name": "Python 3 (ipykernel)",
   "language": "python",
   "name": "python3"
  },
  "language_info": {
   "codemirror_mode": {
    "name": "ipython",
    "version": 3
   },
   "file_extension": ".py",
   "mimetype": "text/x-python",
   "name": "python",
   "nbconvert_exporter": "python",
   "pygments_lexer": "ipython3",
   "version": "3.12.4"
  }
 },
 "nbformat": 4,
 "nbformat_minor": 5
}
